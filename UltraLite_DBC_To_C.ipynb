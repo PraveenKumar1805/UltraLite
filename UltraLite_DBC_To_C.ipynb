{
 "cells": [
  {
   "cell_type": "code",
   "execution_count": 3,
   "metadata": {},
   "outputs": [
    {
     "name": "stdout",
     "output_type": "stream",
     "text": [
      "Starting conversion...\n",
      "Conversion complete. Check the 'ultralite_can_messages_by_cycle_time.c' file.\n"
     ]
    }
   ],
   "source": [
    "import cantools\n",
    "\n",
    "def generate_c_source_by_cycle_time(db, filename):\n",
    "    messages_by_cycle_time = {}\n",
    "\n",
    "    # Categorize messages by cycle time\n",
    "    for message in db.messages:\n",
    "        cycle_time = message.cycle_time if message.cycle_time is not None else 0\n",
    "        if cycle_time not in messages_by_cycle_time:\n",
    "            messages_by_cycle_time[cycle_time] = []\n",
    "        messages_by_cycle_time[cycle_time].append(message)\n",
    "    \n",
    "    with open(filename, 'w') as f:\n",
    "        # Include standard headers\n",
    "        f.write('#include <stdint.h>\\n')\n",
    "        f.write('#include <string.h>\\n\\n')\n",
    "        f.write('#include \"ultralite_can_messages.h\"\\n\\n\\n')\n",
    "\n",
    "        for cycle_time, messages in messages_by_cycle_time.items():\n",
    "            f.write(f'/* Messages with cycle time {cycle_time} ms */\\n\\n')\n",
    "\n",
    "            for message in messages:\n",
    "                f.write(f'/* {message.name} */\\n')\n",
    "                f.write(f'#define {message.name.upper()}_ID 0x{message.frame_id:X}\\n\\n')\n",
    "                \n",
    "\n",
    "                # Generate encoding function\n",
    "                f.write(f'void encode_{message.name}(const {message.name}_t* msg, uint8_t* data) {{\\n')\n",
    "                f.write(f'    memset(data, 0, 8);\\n')\n",
    "                for signal in message.signals:\n",
    "                    start_bit = signal.start  # Starting bit position of the signal\n",
    "                    start_byte = start_bit // 8  # Calculate the starting byte position\n",
    "                    bit_offset = start_bit % 8  # Calculate the bit offset within the byte\n",
    "\n",
    "                    if signal.length ==48:\n",
    "                        for i in range(6):\n",
    "                            f.write(f'    data[{start_byte + i}] |= (msg->{signal.name} >> {(i * 8) - bit_offset}) & 0xFF;\\n')\n",
    "                    if signal.length == 32:\n",
    "                        for i in range(4):\n",
    "                            f.write(f'    data[{start_byte + i}] |= (msg->{signal.name} >> {(i * 8) - bit_offset}) & 0xFF;\\n')\n",
    "                    elif signal.length == 16:\n",
    "                        for i in range(2):\n",
    "                            f.write(f'    data[{start_byte + i}] |= (msg->{signal.name} >> {(i * 8) - bit_offset}) & 0xFF;\\n')\n",
    "                    elif signal.length == 8:\n",
    "                        f.write(f'    data[{start_byte}] |= (msg->{signal.name} & 0xFF) << {bit_offset};\\n')\n",
    "                    elif signal.length == 4:\n",
    "                        f.write(f'    data[{start_byte}] |= (msg->{signal.name} & 0xF) << {bit_offset};\\n')\n",
    "                    elif signal.length == 1:\n",
    "                        f.write(f'    data[{start_byte}] |= (msg->{signal.name} & 0x1) << {bit_offset};\\n')\n",
    "                    else:\n",
    "                        # For other sizes, you would add additional handling here\n",
    "                        pass\n",
    "                #for signal in message.signals:\n",
    "                #    start_byte = signal.start // 8\n",
    "                #    f.write(f'    data[{start_byte}] = msg->{signal.name} & 0xFF;\\n')\n",
    "                 #   f.write(f'    data[{start_byte + 1}] = (msg->{signal.name} >> 8) & 0xFF;\\n')\n",
    "                f.write(f'}}\\n\\n')\n",
    "            f.write('\\n')\n",
    "\n",
    "print(\"Starting conversion...\")\n",
    "db = cantools.database.load_file(r\"D:\\EM\\UltraLite\\UltraLite\\UltraLite.dbc\")\n",
    "generate_c_source_by_cycle_time(db, 'ultralite_can_messages_by_cycle_time.c')\n",
    "print(\"Conversion complete. Check the 'ultralite_can_messages_by_cycle_time.c' file.\")\n"
   ]
  }
 ],
 "metadata": {
  "kernelspec": {
   "display_name": "Python 3",
   "language": "python",
   "name": "python3"
  },
  "language_info": {
   "codemirror_mode": {
    "name": "ipython",
    "version": 3
   },
   "file_extension": ".py",
   "mimetype": "text/x-python",
   "name": "python",
   "nbconvert_exporter": "python",
   "pygments_lexer": "ipython3",
   "version": "3.12.3"
  }
 },
 "nbformat": 4,
 "nbformat_minor": 2
}
