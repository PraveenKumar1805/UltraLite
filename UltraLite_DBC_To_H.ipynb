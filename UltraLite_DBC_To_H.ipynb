{
 "cells": [
  {
   "cell_type": "code",
   "execution_count": 1,
   "metadata": {},
   "outputs": [
    {
     "name": "stdout",
     "output_type": "stream",
     "text": [
      "Conversion complete. Check the 'ultralite_can_messages.h' file.\n"
     ]
    }
   ],
   "source": [
    "import cantools\n",
    "\n",
    "# Load the DBC file\n",
    "db = cantools.database.load_file(r\"D:\\EM\\Excel_To_DBC_Conversion\\UltraLite.dbc\")\n",
    "\n",
    "# Open a C header file to write\n",
    "with open('ultralite_can_messages.h', 'w') as f:\n",
    "    f.write('#ifndef CAN_MESSAGES_H\\n')\n",
    "    f.write('#define CAN_MESSAGES_H\\n\\n')\n",
    "    f.write('#include <stdint.h>\\n\\n')\n",
    "\n",
    "    # Write macros for message IDs\n",
    "    for message in db.messages:\n",
    "        f.write(f'#define {message.name.upper()}_ID 0x{message.frame_id:X}\\n')\n",
    "    \n",
    "    f.write('\\n')\n",
    "\n",
    "    # Write C structures for messages\n",
    "    for message in db.messages:\n",
    "        f.write(f'typedef struct {{\\n')\n",
    "        for signal in message.signals:\n",
    "            # Determine the appropriate C type based on signal length\n",
    "            if signal.length <= 8:\n",
    "                signal_type = 'uint8_t'\n",
    "            elif signal.length <= 16:\n",
    "                signal_type = 'uint16_t'\n",
    "            elif signal.length <= 32:\n",
    "                signal_type = 'uint32_t'\n",
    "            else:\n",
    "                signal_type = 'uint64_t'  # handle larger signals\n",
    "\n",
    "            # Check for signed signals\n",
    "            if signal.is_signed:\n",
    "                signal_type = signal_type.replace('uint', 'int')\n",
    "                \n",
    "            # Write signal declaration with bit field length\n",
    "            f.write(f'    {signal_type} {signal.name} : {signal.length};\\n')\n",
    "        f.write(f'}} {message.name}_t;\\n\\n')\n",
    "    \n",
    "    # Write function prototypes for encoding messages\n",
    "    for message in db.messages:\n",
    "        f.write(f'void encode_{message.name}(const {message.name}_t* msg, uint8_t* data);\\n')\n",
    "    \n",
    "    f.write('\\n')\n",
    "\n",
    "    # Write function prototypes for decoding messages\n",
    "    for message in db.messages:\n",
    "        f.write(f'void decode_{message.name}(const uint8_t* data, {message.name}_t* msg);\\n')\n",
    "    \n",
    "    f.write('\\n')\n",
    "    f.write('#endif // CAN_MESSAGES_H\\n')\n",
    "\n",
    "print(\"Conversion complete. Check the 'ultralite_can_messages.h' file.\")\n"
   ]
  }
 ],
 "metadata": {
  "kernelspec": {
   "display_name": "Python 3",
   "language": "python",
   "name": "python3"
  },
  "language_info": {
   "codemirror_mode": {
    "name": "ipython",
    "version": 3
   },
   "file_extension": ".py",
   "mimetype": "text/x-python",
   "name": "python",
   "nbconvert_exporter": "python",
   "pygments_lexer": "ipython3",
   "version": "3.12.3"
  }
 },
 "nbformat": 4,
 "nbformat_minor": 2
}
